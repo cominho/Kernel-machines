{
  "nbformat": 4,
  "nbformat_minor": 0,
  "metadata": {
    "colab": {
      "provenance": []
    },
    "kernelspec": {
      "name": "python3",
      "display_name": "Python 3"
    },
    "language_info": {
      "name": "python"
    }
  },
  "cells": [
    {
      "cell_type": "code",
      "source": [
        "#Prerequisites\n",
        "#!pip install torch torchvision\n",
        "#!pip install torch-geometric\n",
        "#!pip install gudhi"
      ],
      "metadata": {
        "colab": {
          "base_uri": "https://localhost:8080/"
        },
        "id": "nzMytZGeOGws",
        "outputId": "87bab105-8a38-4e1a-c5e3-e21dd68a12f8"
      },
      "execution_count": null,
      "outputs": [
        {
          "output_type": "stream",
          "name": "stdout",
          "text": [
            "Requirement already satisfied: torch in /usr/local/lib/python3.10/dist-packages (2.5.0+cu121)\n",
            "Requirement already satisfied: torchvision in /usr/local/lib/python3.10/dist-packages (0.20.0+cu121)\n",
            "Requirement already satisfied: filelock in /usr/local/lib/python3.10/dist-packages (from torch) (3.16.1)\n",
            "Requirement already satisfied: typing-extensions>=4.8.0 in /usr/local/lib/python3.10/dist-packages (from torch) (4.12.2)\n",
            "Requirement already satisfied: networkx in /usr/local/lib/python3.10/dist-packages (from torch) (3.4.2)\n",
            "Requirement already satisfied: jinja2 in /usr/local/lib/python3.10/dist-packages (from torch) (3.1.4)\n",
            "Requirement already satisfied: fsspec in /usr/local/lib/python3.10/dist-packages (from torch) (2024.10.0)\n",
            "Requirement already satisfied: sympy==1.13.1 in /usr/local/lib/python3.10/dist-packages (from torch) (1.13.1)\n",
            "Requirement already satisfied: mpmath<1.4,>=1.1.0 in /usr/local/lib/python3.10/dist-packages (from sympy==1.13.1->torch) (1.3.0)\n",
            "Requirement already satisfied: numpy in /usr/local/lib/python3.10/dist-packages (from torchvision) (1.26.4)\n",
            "Requirement already satisfied: pillow!=8.3.*,>=5.3.0 in /usr/local/lib/python3.10/dist-packages (from torchvision) (10.4.0)\n",
            "Requirement already satisfied: MarkupSafe>=2.0 in /usr/local/lib/python3.10/dist-packages (from jinja2->torch) (3.0.2)\n",
            "Collecting torch-geometric\n",
            "  Downloading torch_geometric-2.6.1-py3-none-any.whl.metadata (63 kB)\n",
            "\u001b[2K     \u001b[90m━━━━━━━━━━━━━━━━━━━━━━━━━━━━━━━━━━━━━━━━\u001b[0m \u001b[32m63.1/63.1 kB\u001b[0m \u001b[31m1.2 MB/s\u001b[0m eta \u001b[36m0:00:00\u001b[0m\n",
            "\u001b[?25hRequirement already satisfied: aiohttp in /usr/local/lib/python3.10/dist-packages (from torch-geometric) (3.10.10)\n",
            "Requirement already satisfied: fsspec in /usr/local/lib/python3.10/dist-packages (from torch-geometric) (2024.10.0)\n",
            "Requirement already satisfied: jinja2 in /usr/local/lib/python3.10/dist-packages (from torch-geometric) (3.1.4)\n",
            "Requirement already satisfied: numpy in /usr/local/lib/python3.10/dist-packages (from torch-geometric) (1.26.4)\n",
            "Requirement already satisfied: psutil>=5.8.0 in /usr/local/lib/python3.10/dist-packages (from torch-geometric) (5.9.5)\n",
            "Requirement already satisfied: pyparsing in /usr/local/lib/python3.10/dist-packages (from torch-geometric) (3.2.0)\n",
            "Requirement already satisfied: requests in /usr/local/lib/python3.10/dist-packages (from torch-geometric) (2.32.3)\n",
            "Requirement already satisfied: tqdm in /usr/local/lib/python3.10/dist-packages (from torch-geometric) (4.66.6)\n",
            "Requirement already satisfied: aiohappyeyeballs>=2.3.0 in /usr/local/lib/python3.10/dist-packages (from aiohttp->torch-geometric) (2.4.3)\n",
            "Requirement already satisfied: aiosignal>=1.1.2 in /usr/local/lib/python3.10/dist-packages (from aiohttp->torch-geometric) (1.3.1)\n",
            "Requirement already satisfied: attrs>=17.3.0 in /usr/local/lib/python3.10/dist-packages (from aiohttp->torch-geometric) (24.2.0)\n",
            "Requirement already satisfied: frozenlist>=1.1.1 in /usr/local/lib/python3.10/dist-packages (from aiohttp->torch-geometric) (1.5.0)\n",
            "Requirement already satisfied: multidict<7.0,>=4.5 in /usr/local/lib/python3.10/dist-packages (from aiohttp->torch-geometric) (6.1.0)\n",
            "Requirement already satisfied: yarl<2.0,>=1.12.0 in /usr/local/lib/python3.10/dist-packages (from aiohttp->torch-geometric) (1.17.0)\n",
            "Requirement already satisfied: async-timeout<5.0,>=4.0 in /usr/local/lib/python3.10/dist-packages (from aiohttp->torch-geometric) (4.0.3)\n",
            "Requirement already satisfied: MarkupSafe>=2.0 in /usr/local/lib/python3.10/dist-packages (from jinja2->torch-geometric) (3.0.2)\n",
            "Requirement already satisfied: charset-normalizer<4,>=2 in /usr/local/lib/python3.10/dist-packages (from requests->torch-geometric) (3.4.0)\n",
            "Requirement already satisfied: idna<4,>=2.5 in /usr/local/lib/python3.10/dist-packages (from requests->torch-geometric) (3.10)\n",
            "Requirement already satisfied: urllib3<3,>=1.21.1 in /usr/local/lib/python3.10/dist-packages (from requests->torch-geometric) (2.2.3)\n",
            "Requirement already satisfied: certifi>=2017.4.17 in /usr/local/lib/python3.10/dist-packages (from requests->torch-geometric) (2024.8.30)\n",
            "Requirement already satisfied: typing-extensions>=4.1.0 in /usr/local/lib/python3.10/dist-packages (from multidict<7.0,>=4.5->aiohttp->torch-geometric) (4.12.2)\n",
            "Requirement already satisfied: propcache>=0.2.0 in /usr/local/lib/python3.10/dist-packages (from yarl<2.0,>=1.12.0->aiohttp->torch-geometric) (0.2.0)\n",
            "Downloading torch_geometric-2.6.1-py3-none-any.whl (1.1 MB)\n",
            "\u001b[2K   \u001b[90m━━━━━━━━━━━━━━━━━━━━━━━━━━━━━━━━━━━━━━━━\u001b[0m \u001b[32m1.1/1.1 MB\u001b[0m \u001b[31m12.6 MB/s\u001b[0m eta \u001b[36m0:00:00\u001b[0m\n",
            "\u001b[?25hInstalling collected packages: torch-geometric\n",
            "Successfully installed torch-geometric-2.6.1\n",
            "Collecting gudhi\n",
            "  Downloading gudhi-3.10.1-cp310-cp310-manylinux_2_17_x86_64.manylinux2014_x86_64.whl.metadata (1.6 kB)\n",
            "Requirement already satisfied: numpy>=1.15.0 in /usr/local/lib/python3.10/dist-packages (from gudhi) (1.26.4)\n",
            "Downloading gudhi-3.10.1-cp310-cp310-manylinux_2_17_x86_64.manylinux2014_x86_64.whl (3.3 MB)\n",
            "\u001b[2K   \u001b[90m━━━━━━━━━━━━━━━━━━━━━━━━━━━━━━━━━━━━━━━━\u001b[0m \u001b[32m3.3/3.3 MB\u001b[0m \u001b[31m11.3 MB/s\u001b[0m eta \u001b[36m0:00:00\u001b[0m\n",
            "\u001b[?25hInstalling collected packages: gudhi\n",
            "Successfully installed gudhi-3.10.1\n"
          ]
        }
      ]
    },
    {
      "cell_type": "code",
      "source": [
        "# Import necessary libraries\n",
        "import torch\n",
        "from torch_geometric.datasets import TUDataset\n",
        "from torch_geometric.utils import to_networkx\n",
        "import networkx as nx\n",
        "import numpy as np\n",
        "import gudhi as gd\n",
        "from sklearn.model_selection import StratifiedKFold, train_test_split\n",
        "from sklearn.linear_model import SGDClassifier\n",
        "from sklearn.svm import SVC\n",
        "from sklearn.metrics import accuracy_score\n",
        "from sklearn.preprocessing import StandardScaler\n",
        "from joblib import Parallel, delayed\n",
        "import pickle\n",
        "import os"
      ],
      "metadata": {
        "id": "wNEUjyNH34d6"
      },
      "execution_count": null,
      "outputs": []
    },
    {
      "cell_type": "code",
      "source": [
        "# Load PROTEINS data\n",
        "def load_proteins_dataset():\n",
        "    dataset = TUDataset(root='data/TUDataset', name='PROTEINS')\n",
        "    graphs = []\n",
        "    labels = []\n",
        "    for data in dataset:\n",
        "        G = to_networkx(data, to_undirected=True)\n",
        "        graphs.append(G)\n",
        "        labels.append(data.y.item())\n",
        "    return graphs, labels\n",
        "\n",
        "graphs_proteins, labels_proteins = load_proteins_dataset()\n",
        "\n",
        "# Can reduce the size of the data for the tests :\n",
        "# subset_size = 100\n",
        "# graphs_proteins = graphs_proteins[:subset_size]\n",
        "# labels_proteins = labels_proteins[:subset_size]"
      ],
      "metadata": {
        "id": "LUJR1-aV34hd"
      },
      "execution_count": null,
      "outputs": []
    },
    {
      "cell_type": "code",
      "source": [
        "# Second approach : simulate data and test the 2 methods\n",
        "def generate_simulated_data(num_graphs_per_class=100, num_nodes=30):\n",
        "    graphs = []\n",
        "    labels = []\n",
        "\n",
        "    for _ in range(num_graphs_per_class):\n",
        "        G = nx.erdos_renyi_graph(n=num_nodes, p=0.05)\n",
        "        if not nx.is_connected(G):\n",
        "            largest_cc = max(nx.connected_components(G), key=len)\n",
        "            G = G.subgraph(largest_cc).copy()\n",
        "        graphs.append(G)\n",
        "        labels.append(0)\n",
        "\n",
        "    for _ in range(num_graphs_per_class):\n",
        "        G = nx.cycle_graph(n=num_nodes)\n",
        "        extra_edges = int(0.1 * num_nodes)\n",
        "        for _ in range(extra_edges):\n",
        "            u = np.random.randint(0, num_nodes)\n",
        "            v = np.random.randint(0, num_nodes)\n",
        "            if u != v:\n",
        "                G.add_edge(u, v)\n",
        "        graphs.append(G)\n",
        "        labels.append(1)\n",
        "\n",
        "    return graphs, labels\n",
        "\n",
        "graphs_simulated, labels_simulated = generate_simulated_data(num_graphs_per_class=100, num_nodes=30)"
      ],
      "metadata": {
        "id": "ia1OgJlq34kl"
      },
      "execution_count": null,
      "outputs": []
    },
    {
      "cell_type": "code",
      "source": [
        "# Main functions\n",
        "\n",
        "\"Function to convert graphs into distance matrices\"\n",
        "def graph_to_distance_matrix(G):\n",
        "    length = dict(nx.all_pairs_shortest_path_length(G))\n",
        "    nodes = list(G.nodes())\n",
        "    n = len(nodes)\n",
        "    distance_matrix = np.zeros((n, n))\n",
        "    for i, u in enumerate(nodes):\n",
        "        for j, v in enumerate(nodes):\n",
        "            if v in length[u]:\n",
        "                distance_matrix[i, j] = length[u][v]\n",
        "            else:\n",
        "                distance_matrix[i, j] = np.inf\n",
        "    return distance_matrix\n",
        "\n",
        "\"Function to compute persistence diagrams\"\n",
        "def compute_persistence_diagram(distance_matrix):\n",
        "    rips_complex = gd.RipsComplex(distance_matrix=distance_matrix)\n",
        "    simplex_tree = rips_complex.create_simplex_tree(max_dimension=2)\n",
        "    simplex_tree.compute_persistence()\n",
        "    diag = simplex_tree.persistence_intervals_in_dimension(1)\n",
        "    if len(diag) == 0:\n",
        "        diag = np.array([[0.0, 0.0]])\n",
        "    return diag\n",
        "\n",
        "def compute_persistence_diagrams_parallel(distance_matrices):\n",
        "    results = Parallel(n_jobs=-1)(\n",
        "        delayed(compute_persistence_diagram)(dm) for dm in distance_matrices\n",
        "    )\n",
        "    return results\n"
      ],
      "metadata": {
        "id": "OfpJ7dng4QrM"
      },
      "execution_count": null,
      "outputs": []
    },
    {
      "cell_type": "code",
      "source": [
        "# Comptute persistence diagrams (PROTEINS dataset)\n",
        "distance_matrices_proteins = [graph_to_distance_matrix(G) for G in graphs_proteins]\n",
        "\n",
        "diagrams_path_proteins = 'persistence_diagrams_proteins.pkl'\n",
        "if os.path.exists(diagrams_path_proteins):\n",
        "    with open(diagrams_path_proteins, 'rb') as f:\n",
        "        persistence_diagrams_proteins = pickle.load(f)\n",
        "else:\n",
        "    persistence_diagrams_proteins = compute_persistence_diagrams_parallel(distance_matrices_proteins)\n",
        "    with open(diagrams_path_proteins, 'wb') as f:\n",
        "        pickle.dump(persistence_diagrams_proteins, f)"
      ],
      "metadata": {
        "id": "uU3ZGJ5h4Qti"
      },
      "execution_count": null,
      "outputs": []
    },
    {
      "cell_type": "code",
      "source": [
        "# Compute persistence diagrams (simulated dataset)\n",
        "distance_matrices_simulated = [graph_to_distance_matrix(G) for G in graphs_simulated]\n",
        "persistence_diagrams_simulated = compute_persistence_diagrams_parallel(distance_matrices_simulated)"
      ],
      "metadata": {
        "id": "riDr8OVV43Lu"
      },
      "execution_count": null,
      "outputs": []
    },
    {
      "cell_type": "code",
      "source": [
        "# Data processing\n",
        "X_proteins = persistence_diagrams_proteins\n",
        "y_proteins = np.array(labels_proteins)\n",
        "\n",
        "# Labels\n",
        "unique_labels_proteins = np.unique(y_proteins)\n",
        "label_mapping_proteins = {label: idx for idx, label in enumerate(unique_labels_proteins)}\n",
        "y_proteins = np.array([label_mapping_proteins[label] for label in y_proteins])"
      ],
      "metadata": {
        "id": "zu4kMhpQ43OP"
      },
      "execution_count": null,
      "outputs": []
    },
    {
      "cell_type": "code",
      "source": [
        "# Simulated data\n",
        "X_simulated = persistence_diagrams_simulated\n",
        "y_simulated = np.array(labels_simulated)"
      ],
      "metadata": {
        "id": "mGImeqJK4-7i"
      },
      "execution_count": null,
      "outputs": []
    },
    {
      "cell_type": "code",
      "source": [
        "\"Function to compute MTF features\"\n",
        "def compute_mtf_features(diagrams, num_features=13):\n",
        "    features = []\n",
        "    for diag in diagrams:\n",
        "        persistences = diag[:, 1] - diag[:, 0]\n",
        "        sorted_persistences = np.sort(persistences)[::-1]\n",
        "        if len(sorted_persistences) < num_features:\n",
        "            sorted_persistences = np.pad(\n",
        "                sorted_persistences, (0, num_features - len(sorted_persistences)), 'constant'\n",
        "            )\n",
        "        else:\n",
        "            sorted_persistences = sorted_persistences[:num_features]\n",
        "        features.append(sorted_persistences)\n",
        "    return np.array(features)"
      ],
      "metadata": {
        "id": "FB2KWpIK4-93"
      },
      "execution_count": null,
      "outputs": []
    },
    {
      "cell_type": "markdown",
      "source": [
        "**Protein data**"
      ],
      "metadata": {
        "id": "P-GTteb2FaIk"
      }
    },
    {
      "cell_type": "markdown",
      "source": [
        "MTF-SVM method\n"
      ],
      "metadata": {
        "id": "rU9U7K7CF1Zn"
      }
    },
    {
      "cell_type": "code",
      "source": [
        "mtf_features_proteins = compute_mtf_features(X_proteins)\n",
        "\n",
        "# Scale features\n",
        "scaler_mtf_proteins = StandardScaler()\n",
        "mtf_features_proteins_scaled = scaler_mtf_proteins.fit_transform(mtf_features_proteins)\n",
        "\n",
        "C_values = [0.1, 1, 10, 100]\n",
        "best_score_mtf_proteins = 0\n",
        "best_params_mtf_proteins = {}\n",
        "\n",
        "cv = StratifiedKFold(n_splits=5, shuffle=True, random_state=42)\n",
        "\n",
        "print(\"Evaluation of MTF-SVM method (protein data)\")\n",
        "for C in C_values:\n",
        "    accuracies = []\n",
        "    for train_index, test_index in cv.split(mtf_features_proteins_scaled, y_proteins):\n",
        "        X_train_cv, X_test_cv = mtf_features_proteins_scaled[train_index], mtf_features_proteins_scaled[test_index]\n",
        "        y_train_cv, y_test_cv = y_proteins[train_index], y_proteins[test_index]\n",
        "        clf = SVC(kernel='rbf', C=C)\n",
        "        clf.fit(X_train_cv, y_train_cv)\n",
        "        y_pred_cv = clf.predict(X_test_cv)\n",
        "        acc = accuracy_score(y_test_cv, y_pred_cv)\n",
        "        accuracies.append(acc)\n",
        "    mean_accuracy = np.mean(accuracies)\n",
        "    print(f\"MTF-SVM (PROTEINS) - C: {C}, Mean accuracy: {mean_accuracy:.4f}\")\n",
        "    if mean_accuracy > best_score_mtf_proteins:\n",
        "        best_score_mtf_proteins = mean_accuracy\n",
        "        best_params_mtf_proteins = {'C': C}\n",
        "\n",
        "print(f\"\\nBest parameters: {best_params_mtf_proteins}, Mean accuracy: {best_score_mtf_proteins:.4f}\\n\")"
      ],
      "metadata": {
        "id": "cj2g47MU56v7",
        "colab": {
          "base_uri": "https://localhost:8080/"
        },
        "outputId": "4b3f80a5-2f60-4510-d644-eba116c093a9"
      },
      "execution_count": null,
      "outputs": [
        {
          "output_type": "stream",
          "name": "stdout",
          "text": [
            "Evaluation of MTF-SVM method (protein data)\n",
            "MTF-SVM (PROTEINS) - C: 0.1, Mean accuracy: 0.5957\n",
            "MTF-SVM (PROTEINS) - C: 1, Mean accuracy: 0.5795\n",
            "MTF-SVM (PROTEINS) - C: 10, Mean accuracy: 0.6047\n",
            "MTF-SVM (PROTEINS) - C: 100, Mean accuracy: 0.5984\n",
            "\n",
            "Best parameters: {'C': 10}, Mean accuracy: 0.6047\n",
            "\n"
          ]
        }
      ]
    },
    {
      "cell_type": "markdown",
      "source": [
        "PWGK with RFF method"
      ],
      "metadata": {
        "id": "v9ALXSqeFvIA"
      }
    },
    {
      "cell_type": "code",
      "source": [
        "# Hyperparameters\n",
        "sigma_values = [0.1, 1.0, 10.0]\n",
        "p_values = [1, 2, 5]\n",
        "D_values = [500, 1000, 5000]\n",
        "C_values = [0.1, 1, 10]\n",
        "\n",
        "best_score_rff_proteins = 0\n",
        "best_params_rff_proteins = {}\n",
        "\n",
        "print(\"Evaluation of PGWK with RFF (protein data)\")\n",
        "for sigma in sigma_values:\n",
        "    for p in p_values:\n",
        "        for D in D_values:\n",
        "            np.random.seed(42)\n",
        "            omega = np.random.normal(0, 1 / sigma, size=(D, 2))\n",
        "            b = np.random.uniform(0, 2 * np.pi, size=D)\n",
        "            def rff_transform(diagrams):\n",
        "                transformed_diagrams = []\n",
        "                for diag in diagrams:\n",
        "                    if len(diag) == 0:\n",
        "                        transformed_diagrams.append(np.zeros(D))\n",
        "                        continue\n",
        "                    weights = np.abs(diag[:, 1] - diag[:, 0]) ** p\n",
        "                    z = np.sqrt(2 / D) * np.cos(diag @ omega.T + b)\n",
        "                    z_weighted = z * weights[:, np.newaxis]\n",
        "                    z_agg = np.sum(z_weighted, axis=0)\n",
        "                    transformed_diagrams.append(z_agg)\n",
        "                return np.array(transformed_diagrams)\n",
        "            X_transformed = rff_transform(X_proteins)\n",
        "            scaler_rff = StandardScaler()\n",
        "            X_transformed_scaled = scaler_rff.fit_transform(X_transformed)\n",
        "            for C in C_values:\n",
        "                accuracies = []\n",
        "                for train_index, test_index in cv.split(X_transformed_scaled, y_proteins):\n",
        "                    X_train_cv, X_test_cv = X_transformed_scaled[train_index], X_transformed_scaled[test_index]\n",
        "                    y_train_cv, y_test_cv = y_proteins[train_index], y_proteins[test_index]\n",
        "                    clf = SGDClassifier(loss='hinge', penalty='l2', alpha=1/(C * len(y_train_cv)),\n",
        "                                        max_iter=1000, tol=1e-3, random_state=42)\n",
        "                    clf.fit(X_train_cv, y_train_cv)\n",
        "                    y_pred_cv = clf.predict(X_test_cv)\n",
        "                    acc = accuracy_score(y_test_cv, y_pred_cv)\n",
        "                    accuracies.append(acc)\n",
        "                mean_accuracy = np.mean(accuracies)\n",
        "                print(f\"PWGK-RFF (PROTEINS) - Sigma: {sigma}, p: {p}, D: {D}, C: {C}, Mean accuracy: {mean_accuracy:.4f}\")\n",
        "                if mean_accuracy > best_score_rff_proteins:\n",
        "                    best_score_rff_proteins = mean_accuracy\n",
        "                    best_params_rff_proteins = {'sigma': sigma, 'p': p, 'D': D, 'C': C}\n",
        "\n",
        "print(f\"\\nBest parameters: {best_params_rff_proteins}, Mean accuracy: {best_score_rff_proteins:.4f}\\n\")\n"
      ],
      "metadata": {
        "id": "w7kZkUgVxbwf",
        "colab": {
          "base_uri": "https://localhost:8080/"
        },
        "outputId": "80c9a1eb-901c-4fd1-c94a-eb5d0897283b"
      },
      "execution_count": null,
      "outputs": [
        {
          "output_type": "stream",
          "name": "stdout",
          "text": [
            "Evaluation of PGWK with RFF (protein data)\n",
            "PWGK-RFF (PROTEINS) - Sigma: 0.1, p: 1, D: 500, C: 0.1, Mean accuracy: 0.5535\n",
            "PWGK-RFF (PROTEINS) - Sigma: 0.1, p: 1, D: 500, C: 1, Mean accuracy: 0.5723\n",
            "PWGK-RFF (PROTEINS) - Sigma: 0.1, p: 1, D: 500, C: 10, Mean accuracy: 0.5787\n",
            "PWGK-RFF (PROTEINS) - Sigma: 0.1, p: 1, D: 1000, C: 0.1, Mean accuracy: 0.5598\n",
            "PWGK-RFF (PROTEINS) - Sigma: 0.1, p: 1, D: 1000, C: 1, Mean accuracy: 0.5463\n",
            "PWGK-RFF (PROTEINS) - Sigma: 0.1, p: 1, D: 1000, C: 10, Mean accuracy: 0.5777\n",
            "PWGK-RFF (PROTEINS) - Sigma: 0.1, p: 1, D: 5000, C: 0.1, Mean accuracy: 0.5445\n",
            "PWGK-RFF (PROTEINS) - Sigma: 0.1, p: 1, D: 5000, C: 1, Mean accuracy: 0.5526\n",
            "PWGK-RFF (PROTEINS) - Sigma: 0.1, p: 1, D: 5000, C: 10, Mean accuracy: 0.5553\n",
            "PWGK-RFF (PROTEINS) - Sigma: 0.1, p: 2, D: 500, C: 0.1, Mean accuracy: 0.5849\n",
            "PWGK-RFF (PROTEINS) - Sigma: 0.1, p: 2, D: 500, C: 1, Mean accuracy: 0.5534\n",
            "PWGK-RFF (PROTEINS) - Sigma: 0.1, p: 2, D: 500, C: 10, Mean accuracy: 0.5599\n",
            "PWGK-RFF (PROTEINS) - Sigma: 0.1, p: 2, D: 1000, C: 0.1, Mean accuracy: 0.5903\n",
            "PWGK-RFF (PROTEINS) - Sigma: 0.1, p: 2, D: 1000, C: 1, Mean accuracy: 0.5373\n",
            "PWGK-RFF (PROTEINS) - Sigma: 0.1, p: 2, D: 1000, C: 10, Mean accuracy: 0.5805\n",
            "PWGK-RFF (PROTEINS) - Sigma: 0.1, p: 2, D: 5000, C: 0.1, Mean accuracy: 0.6020\n",
            "PWGK-RFF (PROTEINS) - Sigma: 0.1, p: 2, D: 5000, C: 1, Mean accuracy: 0.5660\n",
            "PWGK-RFF (PROTEINS) - Sigma: 0.1, p: 2, D: 5000, C: 10, Mean accuracy: 0.5750\n",
            "PWGK-RFF (PROTEINS) - Sigma: 0.1, p: 5, D: 500, C: 0.1, Mean accuracy: 0.5606\n",
            "PWGK-RFF (PROTEINS) - Sigma: 0.1, p: 5, D: 500, C: 1, Mean accuracy: 0.5480\n",
            "PWGK-RFF (PROTEINS) - Sigma: 0.1, p: 5, D: 500, C: 10, Mean accuracy: 0.5742\n",
            "PWGK-RFF (PROTEINS) - Sigma: 0.1, p: 5, D: 1000, C: 0.1, Mean accuracy: 0.5930\n",
            "PWGK-RFF (PROTEINS) - Sigma: 0.1, p: 5, D: 1000, C: 1, Mean accuracy: 0.5849\n",
            "PWGK-RFF (PROTEINS) - Sigma: 0.1, p: 5, D: 1000, C: 10, Mean accuracy: 0.5804\n",
            "PWGK-RFF (PROTEINS) - Sigma: 0.1, p: 5, D: 5000, C: 0.1, Mean accuracy: 0.5921\n",
            "PWGK-RFF (PROTEINS) - Sigma: 0.1, p: 5, D: 5000, C: 1, Mean accuracy: 0.5444\n",
            "PWGK-RFF (PROTEINS) - Sigma: 0.1, p: 5, D: 5000, C: 10, Mean accuracy: 0.5426\n",
            "PWGK-RFF (PROTEINS) - Sigma: 1.0, p: 1, D: 500, C: 0.1, Mean accuracy: 0.5822\n",
            "PWGK-RFF (PROTEINS) - Sigma: 1.0, p: 1, D: 500, C: 1, Mean accuracy: 0.5823\n",
            "PWGK-RFF (PROTEINS) - Sigma: 1.0, p: 1, D: 500, C: 10, Mean accuracy: 0.5561\n",
            "PWGK-RFF (PROTEINS) - Sigma: 1.0, p: 1, D: 1000, C: 0.1, Mean accuracy: 0.5669\n",
            "PWGK-RFF (PROTEINS) - Sigma: 1.0, p: 1, D: 1000, C: 1, Mean accuracy: 0.5391\n",
            "PWGK-RFF (PROTEINS) - Sigma: 1.0, p: 1, D: 1000, C: 10, Mean accuracy: 0.5634\n",
            "PWGK-RFF (PROTEINS) - Sigma: 1.0, p: 1, D: 5000, C: 0.1, Mean accuracy: 0.5849\n",
            "PWGK-RFF (PROTEINS) - Sigma: 1.0, p: 1, D: 5000, C: 1, Mean accuracy: 0.5751\n",
            "PWGK-RFF (PROTEINS) - Sigma: 1.0, p: 1, D: 5000, C: 10, Mean accuracy: 0.5642\n",
            "PWGK-RFF (PROTEINS) - Sigma: 1.0, p: 2, D: 500, C: 0.1, Mean accuracy: 0.6056\n",
            "PWGK-RFF (PROTEINS) - Sigma: 1.0, p: 2, D: 500, C: 1, Mean accuracy: 0.5715\n",
            "PWGK-RFF (PROTEINS) - Sigma: 1.0, p: 2, D: 500, C: 10, Mean accuracy: 0.5625\n",
            "PWGK-RFF (PROTEINS) - Sigma: 1.0, p: 2, D: 1000, C: 0.1, Mean accuracy: 0.5885\n",
            "PWGK-RFF (PROTEINS) - Sigma: 1.0, p: 2, D: 1000, C: 1, Mean accuracy: 0.5409\n",
            "PWGK-RFF (PROTEINS) - Sigma: 1.0, p: 2, D: 1000, C: 10, Mean accuracy: 0.5750\n",
            "PWGK-RFF (PROTEINS) - Sigma: 1.0, p: 2, D: 5000, C: 0.1, Mean accuracy: 0.5696\n",
            "PWGK-RFF (PROTEINS) - Sigma: 1.0, p: 2, D: 5000, C: 1, Mean accuracy: 0.5634\n",
            "PWGK-RFF (PROTEINS) - Sigma: 1.0, p: 2, D: 5000, C: 10, Mean accuracy: 0.5625\n",
            "PWGK-RFF (PROTEINS) - Sigma: 1.0, p: 5, D: 500, C: 0.1, Mean accuracy: 0.5948\n",
            "PWGK-RFF (PROTEINS) - Sigma: 1.0, p: 5, D: 500, C: 1, Mean accuracy: 0.5966\n",
            "PWGK-RFF (PROTEINS) - Sigma: 1.0, p: 5, D: 500, C: 10, Mean accuracy: 0.5760\n",
            "PWGK-RFF (PROTEINS) - Sigma: 1.0, p: 5, D: 1000, C: 0.1, Mean accuracy: 0.5642\n",
            "PWGK-RFF (PROTEINS) - Sigma: 1.0, p: 5, D: 1000, C: 1, Mean accuracy: 0.5813\n",
            "PWGK-RFF (PROTEINS) - Sigma: 1.0, p: 5, D: 1000, C: 10, Mean accuracy: 0.5759\n",
            "PWGK-RFF (PROTEINS) - Sigma: 1.0, p: 5, D: 5000, C: 0.1, Mean accuracy: 0.5930\n",
            "PWGK-RFF (PROTEINS) - Sigma: 1.0, p: 5, D: 5000, C: 1, Mean accuracy: 0.5813\n",
            "PWGK-RFF (PROTEINS) - Sigma: 1.0, p: 5, D: 5000, C: 10, Mean accuracy: 0.5831\n",
            "PWGK-RFF (PROTEINS) - Sigma: 10.0, p: 1, D: 500, C: 0.1, Mean accuracy: 0.5912\n",
            "PWGK-RFF (PROTEINS) - Sigma: 10.0, p: 1, D: 500, C: 1, Mean accuracy: 0.5482\n",
            "PWGK-RFF (PROTEINS) - Sigma: 10.0, p: 1, D: 500, C: 10, Mean accuracy: 0.5616\n",
            "PWGK-RFF (PROTEINS) - Sigma: 10.0, p: 1, D: 1000, C: 0.1, Mean accuracy: 0.5849\n",
            "PWGK-RFF (PROTEINS) - Sigma: 10.0, p: 1, D: 1000, C: 1, Mean accuracy: 0.5670\n",
            "PWGK-RFF (PROTEINS) - Sigma: 10.0, p: 1, D: 1000, C: 10, Mean accuracy: 0.5581\n",
            "PWGK-RFF (PROTEINS) - Sigma: 10.0, p: 1, D: 5000, C: 0.1, Mean accuracy: 0.6002\n",
            "PWGK-RFF (PROTEINS) - Sigma: 10.0, p: 1, D: 5000, C: 1, Mean accuracy: 0.5471\n",
            "PWGK-RFF (PROTEINS) - Sigma: 10.0, p: 1, D: 5000, C: 10, Mean accuracy: 0.5832\n",
            "PWGK-RFF (PROTEINS) - Sigma: 10.0, p: 2, D: 500, C: 0.1, Mean accuracy: 0.5912\n",
            "PWGK-RFF (PROTEINS) - Sigma: 10.0, p: 2, D: 500, C: 1, Mean accuracy: 0.5589\n",
            "PWGK-RFF (PROTEINS) - Sigma: 10.0, p: 2, D: 500, C: 10, Mean accuracy: 0.5589\n",
            "PWGK-RFF (PROTEINS) - Sigma: 10.0, p: 2, D: 1000, C: 0.1, Mean accuracy: 0.5805\n",
            "PWGK-RFF (PROTEINS) - Sigma: 10.0, p: 2, D: 1000, C: 1, Mean accuracy: 0.5732\n",
            "PWGK-RFF (PROTEINS) - Sigma: 10.0, p: 2, D: 1000, C: 10, Mean accuracy: 0.5220\n",
            "PWGK-RFF (PROTEINS) - Sigma: 10.0, p: 2, D: 5000, C: 0.1, Mean accuracy: 0.6002\n",
            "PWGK-RFF (PROTEINS) - Sigma: 10.0, p: 2, D: 5000, C: 1, Mean accuracy: 0.5742\n",
            "PWGK-RFF (PROTEINS) - Sigma: 10.0, p: 2, D: 5000, C: 10, Mean accuracy: 0.5318\n",
            "PWGK-RFF (PROTEINS) - Sigma: 10.0, p: 5, D: 500, C: 0.1, Mean accuracy: 0.5957\n",
            "PWGK-RFF (PROTEINS) - Sigma: 10.0, p: 5, D: 500, C: 1, Mean accuracy: 0.5300\n",
            "PWGK-RFF (PROTEINS) - Sigma: 10.0, p: 5, D: 500, C: 10, Mean accuracy: 0.5786\n",
            "PWGK-RFF (PROTEINS) - Sigma: 10.0, p: 5, D: 1000, C: 0.1, Mean accuracy: 0.5930\n",
            "PWGK-RFF (PROTEINS) - Sigma: 10.0, p: 5, D: 1000, C: 1, Mean accuracy: 0.5795\n",
            "PWGK-RFF (PROTEINS) - Sigma: 10.0, p: 5, D: 1000, C: 10, Mean accuracy: 0.5418\n",
            "PWGK-RFF (PROTEINS) - Sigma: 10.0, p: 5, D: 5000, C: 0.1, Mean accuracy: 0.5876\n",
            "PWGK-RFF (PROTEINS) - Sigma: 10.0, p: 5, D: 5000, C: 1, Mean accuracy: 0.5390\n",
            "PWGK-RFF (PROTEINS) - Sigma: 10.0, p: 5, D: 5000, C: 10, Mean accuracy: 0.5804\n",
            "\n",
            "Best parameters: {'sigma': 1.0, 'p': 2, 'D': 500, 'C': 0.1}, Mean accuracy: 0.6056\n",
            "\n"
          ]
        }
      ]
    },
    {
      "cell_type": "markdown",
      "source": [
        "**Simulated data**"
      ],
      "metadata": {
        "id": "xzrN9gJXFm_g"
      }
    },
    {
      "cell_type": "markdown",
      "source": [
        "MTF-SVM method\n"
      ],
      "metadata": {
        "id": "600AjflfF8sG"
      }
    },
    {
      "cell_type": "code",
      "source": [
        "# MTF-SVM method with simulated data\n",
        "mtf_features_simulated = compute_mtf_features(X_simulated)\n",
        "\n",
        "scaler_mtf_simulated = StandardScaler()\n",
        "mtf_features_simulated_scaled = scaler_mtf_simulated.fit_transform(mtf_features_simulated)\n",
        "\n",
        "best_score_mtf_simulated = 0\n",
        "best_params_mtf_simulated = {}\n",
        "\n",
        "print(\"Evaluation of the MTF-SVM method (simulated data)\")\n",
        "for C in C_values:\n",
        "    accuracies = []\n",
        "    for train_index, test_index in cv.split(mtf_features_simulated_scaled, y_simulated):\n",
        "        X_train_cv, X_test_cv = mtf_features_simulated_scaled[train_index], mtf_features_simulated_scaled[test_index]\n",
        "        y_train_cv, y_test_cv = y_simulated[train_index], y_simulated[test_index]\n",
        "        clf = SVC(kernel='rbf', C=C)\n",
        "        clf.fit(X_train_cv, y_train_cv)\n",
        "        y_pred_cv = clf.predict(X_test_cv)\n",
        "        acc = accuracy_score(y_test_cv, y_pred_cv)\n",
        "        accuracies.append(acc)\n",
        "    mean_accuracy = np.mean(accuracies)\n",
        "    print(f\"MTF-SVM (simulated) - C: {C}, Mean accuracy: {mean_accuracy:.4f}\")\n",
        "    if mean_accuracy > best_score_mtf_simulated:\n",
        "        best_score_mtf_simulated = mean_accuracy\n",
        "        best_params_mtf_simulated = {'C': C}\n",
        "\n",
        "print(f\"\\nBest parameters: {best_params_mtf_simulated}, Mean accuracy: {best_score_mtf_simulated:.4f}\\n\")"
      ],
      "metadata": {
        "id": "lFIIOcT9FmMw",
        "colab": {
          "base_uri": "https://localhost:8080/"
        },
        "outputId": "c8430368-eccf-4630-f205-e62688ba3029"
      },
      "execution_count": null,
      "outputs": [
        {
          "output_type": "stream",
          "name": "stdout",
          "text": [
            "Evaluation of the MTF-SVM method (simulated data)\n",
            "MTF-SVM (simulated) - C: 0.1, Mean accuracy: 0.9650\n",
            "MTF-SVM (simulated) - C: 1, Mean accuracy: 0.9800\n",
            "MTF-SVM (simulated) - C: 10, Mean accuracy: 0.9800\n",
            "\n",
            "Best parameters: {'C': 1}, Mean accuracy: 0.9800\n",
            "\n"
          ]
        }
      ]
    },
    {
      "cell_type": "markdown",
      "source": [
        "PWGK with RFF method"
      ],
      "metadata": {
        "id": "8XDMZK6JF7wi"
      }
    },
    {
      "cell_type": "code",
      "source": [
        "best_score_rff_simulated = 0\n",
        "best_params_rff_simulated = {}\n",
        "\n",
        "print(\"Evaluation of PGWK with RFF (simulated data)\")\n",
        "for sigma in sigma_values:\n",
        "    for p in p_values:\n",
        "        for D in D_values:\n",
        "            np.random.seed(42)\n",
        "            omega = np.random.normal(0, 1 / sigma, size=(D, 2))\n",
        "            b = np.random.uniform(0, 2 * np.pi, size=D)\n",
        "            def rff_transform(diagrams):\n",
        "                transformed_diagrams = []\n",
        "                for diag in diagrams:\n",
        "                    if len(diag) == 0:\n",
        "                        transformed_diagrams.append(np.zeros(D))\n",
        "                        continue\n",
        "                    weights = np.abs(diag[:, 1] - diag[:, 0]) ** p\n",
        "                    z = np.sqrt(2 / D) * np.cos(diag @ omega.T + b)\n",
        "                    z_weighted = z * weights[:, np.newaxis]\n",
        "                    z_agg = np.sum(z_weighted, axis=0)\n",
        "                    transformed_diagrams.append(z_agg)\n",
        "                return np.array(transformed_diagrams)\n",
        "            X_transformed = rff_transform(X_simulated)\n",
        "            scaler_rff = StandardScaler()\n",
        "            X_transformed_scaled = scaler_rff.fit_transform(X_transformed)\n",
        "            for C in C_values:\n",
        "                accuracies = []\n",
        "                for train_index, test_index in cv.split(X_transformed_scaled, y_simulated):\n",
        "                    X_train_cv, X_test_cv = X_transformed_scaled[train_index], X_transformed_scaled[test_index]\n",
        "                    y_train_cv, y_test_cv = y_simulated[train_index], y_simulated[test_index]\n",
        "                    clf = SGDClassifier(loss='hinge', penalty='l2', alpha=1/(C * len(y_train_cv)),\n",
        "                                        max_iter=1000, tol=1e-3, random_state=42)\n",
        "                    clf.fit(X_train_cv, y_train_cv)\n",
        "                    y_pred_cv = clf.predict(X_test_cv)\n",
        "                    acc = accuracy_score(y_test_cv, y_pred_cv)\n",
        "                    accuracies.append(acc)\n",
        "                mean_accuracy = np.mean(accuracies)\n",
        "                print(f\"PWGK-RFF (simulated) - Sigma: {sigma}, p: {p}, D: {D}, C: {C}, Mean accuracy: {mean_accuracy:.4f}\")\n",
        "                if mean_accuracy > best_score_rff_simulated:\n",
        "                    best_score_rff_simulated = mean_accuracy\n",
        "                    best_params_rff_simulated = {'sigma': sigma, 'p': p, 'D': D, 'C': C}\n",
        "\n",
        "print(f\"\\nBest parameters: {best_params_rff_simulated}, Mean accuracy: {best_score_rff_simulated:.4f}\\n\")"
      ],
      "metadata": {
        "id": "V509tYC_6e6G",
        "colab": {
          "base_uri": "https://localhost:8080/"
        },
        "outputId": "7d76df56-b3d5-4790-8fa1-bf072baaf380"
      },
      "execution_count": null,
      "outputs": [
        {
          "output_type": "stream",
          "name": "stdout",
          "text": [
            "Evaluation of PGWK with RFF (simulated data)\n",
            "PWGK-RFF (simulated) - Sigma: 0.1, p: 1, D: 500, C: 0.1, Mean accuracy: 0.9550\n",
            "PWGK-RFF (simulated) - Sigma: 0.1, p: 1, D: 500, C: 1, Mean accuracy: 0.9850\n",
            "PWGK-RFF (simulated) - Sigma: 0.1, p: 1, D: 500, C: 10, Mean accuracy: 0.9850\n",
            "PWGK-RFF (simulated) - Sigma: 0.1, p: 1, D: 1000, C: 0.1, Mean accuracy: 0.9600\n",
            "PWGK-RFF (simulated) - Sigma: 0.1, p: 1, D: 1000, C: 1, Mean accuracy: 0.9850\n",
            "PWGK-RFF (simulated) - Sigma: 0.1, p: 1, D: 1000, C: 10, Mean accuracy: 0.9850\n",
            "PWGK-RFF (simulated) - Sigma: 0.1, p: 1, D: 5000, C: 0.1, Mean accuracy: 0.9750\n",
            "PWGK-RFF (simulated) - Sigma: 0.1, p: 1, D: 5000, C: 1, Mean accuracy: 0.9850\n",
            "PWGK-RFF (simulated) - Sigma: 0.1, p: 1, D: 5000, C: 10, Mean accuracy: 0.9850\n",
            "PWGK-RFF (simulated) - Sigma: 0.1, p: 2, D: 500, C: 0.1, Mean accuracy: 0.9850\n",
            "PWGK-RFF (simulated) - Sigma: 0.1, p: 2, D: 500, C: 1, Mean accuracy: 0.9850\n",
            "PWGK-RFF (simulated) - Sigma: 0.1, p: 2, D: 500, C: 10, Mean accuracy: 0.9850\n",
            "PWGK-RFF (simulated) - Sigma: 0.1, p: 2, D: 1000, C: 0.1, Mean accuracy: 0.9800\n",
            "PWGK-RFF (simulated) - Sigma: 0.1, p: 2, D: 1000, C: 1, Mean accuracy: 0.9850\n",
            "PWGK-RFF (simulated) - Sigma: 0.1, p: 2, D: 1000, C: 10, Mean accuracy: 0.9850\n",
            "PWGK-RFF (simulated) - Sigma: 0.1, p: 2, D: 5000, C: 0.1, Mean accuracy: 0.9850\n",
            "PWGK-RFF (simulated) - Sigma: 0.1, p: 2, D: 5000, C: 1, Mean accuracy: 0.9850\n",
            "PWGK-RFF (simulated) - Sigma: 0.1, p: 2, D: 5000, C: 10, Mean accuracy: 0.9850\n",
            "PWGK-RFF (simulated) - Sigma: 0.1, p: 5, D: 500, C: 0.1, Mean accuracy: 1.0000\n",
            "PWGK-RFF (simulated) - Sigma: 0.1, p: 5, D: 500, C: 1, Mean accuracy: 0.9850\n",
            "PWGK-RFF (simulated) - Sigma: 0.1, p: 5, D: 500, C: 10, Mean accuracy: 0.9850\n",
            "PWGK-RFF (simulated) - Sigma: 0.1, p: 5, D: 1000, C: 0.1, Mean accuracy: 0.9700\n",
            "PWGK-RFF (simulated) - Sigma: 0.1, p: 5, D: 1000, C: 1, Mean accuracy: 0.9700\n",
            "PWGK-RFF (simulated) - Sigma: 0.1, p: 5, D: 1000, C: 10, Mean accuracy: 0.9850\n",
            "PWGK-RFF (simulated) - Sigma: 0.1, p: 5, D: 5000, C: 0.1, Mean accuracy: 0.9850\n",
            "PWGK-RFF (simulated) - Sigma: 0.1, p: 5, D: 5000, C: 1, Mean accuracy: 0.9750\n",
            "PWGK-RFF (simulated) - Sigma: 0.1, p: 5, D: 5000, C: 10, Mean accuracy: 0.9650\n",
            "PWGK-RFF (simulated) - Sigma: 1.0, p: 1, D: 500, C: 0.1, Mean accuracy: 0.9850\n",
            "PWGK-RFF (simulated) - Sigma: 1.0, p: 1, D: 500, C: 1, Mean accuracy: 1.0000\n",
            "PWGK-RFF (simulated) - Sigma: 1.0, p: 1, D: 500, C: 10, Mean accuracy: 1.0000\n",
            "PWGK-RFF (simulated) - Sigma: 1.0, p: 1, D: 1000, C: 0.1, Mean accuracy: 0.9800\n",
            "PWGK-RFF (simulated) - Sigma: 1.0, p: 1, D: 1000, C: 1, Mean accuracy: 0.9850\n",
            "PWGK-RFF (simulated) - Sigma: 1.0, p: 1, D: 1000, C: 10, Mean accuracy: 0.9850\n",
            "PWGK-RFF (simulated) - Sigma: 1.0, p: 1, D: 5000, C: 0.1, Mean accuracy: 0.9850\n",
            "PWGK-RFF (simulated) - Sigma: 1.0, p: 1, D: 5000, C: 1, Mean accuracy: 0.9850\n",
            "PWGK-RFF (simulated) - Sigma: 1.0, p: 1, D: 5000, C: 10, Mean accuracy: 0.9850\n",
            "PWGK-RFF (simulated) - Sigma: 1.0, p: 2, D: 500, C: 0.1, Mean accuracy: 1.0000\n",
            "PWGK-RFF (simulated) - Sigma: 1.0, p: 2, D: 500, C: 1, Mean accuracy: 1.0000\n",
            "PWGK-RFF (simulated) - Sigma: 1.0, p: 2, D: 500, C: 10, Mean accuracy: 1.0000\n",
            "PWGK-RFF (simulated) - Sigma: 1.0, p: 2, D: 1000, C: 0.1, Mean accuracy: 1.0000\n",
            "PWGK-RFF (simulated) - Sigma: 1.0, p: 2, D: 1000, C: 1, Mean accuracy: 1.0000\n",
            "PWGK-RFF (simulated) - Sigma: 1.0, p: 2, D: 1000, C: 10, Mean accuracy: 1.0000\n",
            "PWGK-RFF (simulated) - Sigma: 1.0, p: 2, D: 5000, C: 0.1, Mean accuracy: 1.0000\n",
            "PWGK-RFF (simulated) - Sigma: 1.0, p: 2, D: 5000, C: 1, Mean accuracy: 1.0000\n",
            "PWGK-RFF (simulated) - Sigma: 1.0, p: 2, D: 5000, C: 10, Mean accuracy: 1.0000\n",
            "PWGK-RFF (simulated) - Sigma: 1.0, p: 5, D: 500, C: 0.1, Mean accuracy: 0.9950\n",
            "PWGK-RFF (simulated) - Sigma: 1.0, p: 5, D: 500, C: 1, Mean accuracy: 0.9850\n",
            "PWGK-RFF (simulated) - Sigma: 1.0, p: 5, D: 500, C: 10, Mean accuracy: 0.9750\n",
            "PWGK-RFF (simulated) - Sigma: 1.0, p: 5, D: 1000, C: 0.1, Mean accuracy: 0.9800\n",
            "PWGK-RFF (simulated) - Sigma: 1.0, p: 5, D: 1000, C: 1, Mean accuracy: 0.9850\n",
            "PWGK-RFF (simulated) - Sigma: 1.0, p: 5, D: 1000, C: 10, Mean accuracy: 0.9850\n",
            "PWGK-RFF (simulated) - Sigma: 1.0, p: 5, D: 5000, C: 0.1, Mean accuracy: 0.9850\n",
            "PWGK-RFF (simulated) - Sigma: 1.0, p: 5, D: 5000, C: 1, Mean accuracy: 0.9850\n",
            "PWGK-RFF (simulated) - Sigma: 1.0, p: 5, D: 5000, C: 10, Mean accuracy: 0.9850\n",
            "PWGK-RFF (simulated) - Sigma: 10.0, p: 1, D: 500, C: 0.1, Mean accuracy: 1.0000\n",
            "PWGK-RFF (simulated) - Sigma: 10.0, p: 1, D: 500, C: 1, Mean accuracy: 1.0000\n",
            "PWGK-RFF (simulated) - Sigma: 10.0, p: 1, D: 500, C: 10, Mean accuracy: 0.9900\n",
            "PWGK-RFF (simulated) - Sigma: 10.0, p: 1, D: 1000, C: 0.1, Mean accuracy: 0.9950\n",
            "PWGK-RFF (simulated) - Sigma: 10.0, p: 1, D: 1000, C: 1, Mean accuracy: 0.9900\n",
            "PWGK-RFF (simulated) - Sigma: 10.0, p: 1, D: 1000, C: 10, Mean accuracy: 0.9900\n",
            "PWGK-RFF (simulated) - Sigma: 10.0, p: 1, D: 5000, C: 0.1, Mean accuracy: 0.9900\n",
            "PWGK-RFF (simulated) - Sigma: 10.0, p: 1, D: 5000, C: 1, Mean accuracy: 0.9900\n",
            "PWGK-RFF (simulated) - Sigma: 10.0, p: 1, D: 5000, C: 10, Mean accuracy: 0.9900\n",
            "PWGK-RFF (simulated) - Sigma: 10.0, p: 2, D: 500, C: 0.1, Mean accuracy: 0.9950\n",
            "PWGK-RFF (simulated) - Sigma: 10.0, p: 2, D: 500, C: 1, Mean accuracy: 0.9950\n",
            "PWGK-RFF (simulated) - Sigma: 10.0, p: 2, D: 500, C: 10, Mean accuracy: 1.0000\n",
            "PWGK-RFF (simulated) - Sigma: 10.0, p: 2, D: 1000, C: 0.1, Mean accuracy: 1.0000\n",
            "PWGK-RFF (simulated) - Sigma: 10.0, p: 2, D: 1000, C: 1, Mean accuracy: 0.9950\n",
            "PWGK-RFF (simulated) - Sigma: 10.0, p: 2, D: 1000, C: 10, Mean accuracy: 1.0000\n",
            "PWGK-RFF (simulated) - Sigma: 10.0, p: 2, D: 5000, C: 0.1, Mean accuracy: 1.0000\n",
            "PWGK-RFF (simulated) - Sigma: 10.0, p: 2, D: 5000, C: 1, Mean accuracy: 1.0000\n",
            "PWGK-RFF (simulated) - Sigma: 10.0, p: 2, D: 5000, C: 10, Mean accuracy: 1.0000\n",
            "PWGK-RFF (simulated) - Sigma: 10.0, p: 5, D: 500, C: 0.1, Mean accuracy: 1.0000\n",
            "PWGK-RFF (simulated) - Sigma: 10.0, p: 5, D: 500, C: 1, Mean accuracy: 0.9950\n",
            "PWGK-RFF (simulated) - Sigma: 10.0, p: 5, D: 500, C: 10, Mean accuracy: 0.9700\n",
            "PWGK-RFF (simulated) - Sigma: 10.0, p: 5, D: 1000, C: 0.1, Mean accuracy: 1.0000\n",
            "PWGK-RFF (simulated) - Sigma: 10.0, p: 5, D: 1000, C: 1, Mean accuracy: 0.9950\n",
            "PWGK-RFF (simulated) - Sigma: 10.0, p: 5, D: 1000, C: 10, Mean accuracy: 0.9800\n",
            "PWGK-RFF (simulated) - Sigma: 10.0, p: 5, D: 5000, C: 0.1, Mean accuracy: 0.9350\n",
            "PWGK-RFF (simulated) - Sigma: 10.0, p: 5, D: 5000, C: 1, Mean accuracy: 0.9750\n",
            "PWGK-RFF (simulated) - Sigma: 10.0, p: 5, D: 5000, C: 10, Mean accuracy: 0.9200\n",
            "\n",
            "Best parameters: {'sigma': 0.1, 'p': 5, 'D': 500, 'C': 0.1}, Mean accuracy: 1.0000\n",
            "\n"
          ]
        }
      ]
    },
    {
      "cell_type": "markdown",
      "source": [
        "**Final results**"
      ],
      "metadata": {
        "id": "BD9wPjroGDsR"
      }
    },
    {
      "cell_type": "code",
      "source": [
        "# Print final results\n",
        "print(\"Final results on PROTEINS dataset:\")\n",
        "print(f\"Mean accuracy MTF-SVM method: {best_score_mtf_proteins:.4f}\")\n",
        "print(f\"Mean accuracy PWGK with RFF method: {best_score_rff_proteins:.4f}\\n\")\n",
        "\n",
        "print(\"Final results on simulated dataset:\")\n",
        "print(f\"Mean accuracy MTF-SVM method: {best_score_mtf_simulated:.4f}\")\n",
        "print(f\"Mean accuracy PWGK with RFF method: {best_score_rff_simulated:.4f}\")"
      ],
      "metadata": {
        "id": "xbiAl5p4xby8",
        "colab": {
          "base_uri": "https://localhost:8080/"
        },
        "outputId": "6465608a-7cf8-45a7-cbd9-4f05584bb384"
      },
      "execution_count": null,
      "outputs": [
        {
          "output_type": "stream",
          "name": "stdout",
          "text": [
            "Final results on PROTEINS dataset:\n",
            "Mean accuracy MTF-SVM method: 0.6047\n",
            "Mean accuracy PWGK with RFF method: 0.6056\n",
            "\n",
            "Final results on simulated data:\n",
            "Mean accuracy MTF-SVM method: 0.9800\n",
            "Mean accuracy PWGK with RFF method: 1.0000\n"
          ]
        }
      ]
    }
  ]
}